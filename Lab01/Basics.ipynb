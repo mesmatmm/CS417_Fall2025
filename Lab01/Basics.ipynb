{
 "cells": [
  {
   "cell_type": "markdown",
   "id": "d703e916",
   "metadata": {},
   "source": [
    "\n",
    "\n",
    "### Jupyter Notebook: Python Basics for Beginners\n",
    "\n",
    "---\n",
    "\n",
    "#### **Outline**\n",
    "1. **Variables and Printing**  \n",
    "   - Assigning variables  \n",
    "   - Basic printing  \n",
    "   - f-string formatting  \n",
    "\n",
    "2. **Data Types and Type Checking**  \n",
    "   - `type()` function  \n",
    "   - Common data types  \n",
    "\n",
    "3. **User Input**  \n",
    "   - `input()` function  \n",
    "   - Casting input  \n",
    "\n",
    "4. **Type Casting**  \n",
    "   - Converting between data types  \n",
    "\n",
    "5. **Conditional Statements**  \n",
    "   - `if`, `elif`, `else`  \n",
    "   - Logical operators  \n",
    "\n",
    "6. **Loops**  \n",
    "   - `for` loops  \n",
    "   - `while` loops  \n",
    "   - `break` and `continue`  \n",
    "\n",
    "7. **Functions**  \n",
    "   - Defining functions  \n",
    "   - Keyword arguments  \n",
    "   - Default parameters  \n",
    "\n",
    "8. **Modules**  \n",
    "   - Importing modules  \n",
    "   - Using module functions  \n",
    "\n",
    "9. **Basic Data Structures**  \n",
    "   - Lists  \n",
    "   - Tuples  \n",
    "   - Sets  \n",
    "   - Dictionaries  \n",
    "\n",
    "---\n",
    "\n",
    "### 1. Variables and Printing\n"
   ]
  },
  {
   "cell_type": "code",
   "execution_count": 1,
   "id": "35ae02c5",
   "metadata": {},
   "outputs": [
    {
     "name": "stdout",
     "output_type": "stream",
     "text": [
      "Welcome to CS417 Fall 2025\n",
      "Neural Networks\n"
     ]
    }
   ],
   "source": [
    "print(\"Welcome to CS417\", \"Fall 2025\") \n",
    "print(\"Neural Networks\")"
   ]
  },
  {
   "cell_type": "markdown",
   "id": "0806a116",
   "metadata": {},
   "source": [
    "* **Notes**:\n",
    "    * **In Python: Everything is an object.**\n",
    "    * Python is **case-sensitive**.\n",
    "    * Python source code file has extension (**.py**)\n",
    "    * Jupyter Notebook file has extension (**.ipynb**)\n",
    "    * Python is **dynamically typed**: You don’t declare the type of a variable.\n",
    "    * Python is an **interpreted language**.\n",
    "    * An **interpreted language** means that the code is executed **line by line** by an interpreter at runtime, instead of being **compiled into machine code** beforehand."
   ]
  },
  {
   "cell_type": "code",
   "execution_count": 63,
   "id": "cb6e7b8d",
   "metadata": {},
   "outputs": [
    {
     "name": "stdout",
     "output_type": "stream",
     "text": [
      "Name: Alice\n",
      "Age: 25\n",
      "Alice is 25 years old and 5.6 feet tall.\n",
      "Is student? True\n",
      "x =  5 , y = 6 , z = 7\n"
     ]
    }
   ],
   "source": [
    "# Assigning variables\n",
    "name = \"Alice\"\n",
    "age = 25\n",
    "height = 5.6\n",
    "is_student = True\n",
    "\n",
    "# Basic printing\n",
    "print(\"Name:\", name)\n",
    "print(\"Age:\", age)\n",
    "\n",
    "# f-string formatting (Python 3.6+)\n",
    "print(f\"{name} is {age} years old and {height} feet tall.\")\n",
    "print(f\"Is student? {is_student}\")\n",
    "\n",
    "# initialize more than one variable in a single statement\n",
    "x, y, z = 5, 6, 7\n",
    "print(\"x = \", x, \", y =\", y, \", z =\", z)"
   ]
  },
  {
   "cell_type": "markdown",
   "id": "4a08fc82",
   "metadata": {},
   "source": [
    "---\n",
    "### 2. Data Types and Type Checking"
   ]
  },
  {
   "cell_type": "code",
   "execution_count": 43,
   "id": "29a46afb",
   "metadata": {},
   "outputs": [
    {
     "name": "stdout",
     "output_type": "stream",
     "text": [
      "<class 'str'>\n",
      "<class 'int'>\n",
      "<class 'float'>\n",
      "<class 'bool'>\n",
      "type(c) = <class 'str'>\n"
     ]
    }
   ],
   "source": [
    "# Check data types using type()\n",
    "print(type(name))      # <class 'str'>\n",
    "print(type(age))       # <class 'int'>\n",
    "print(type(height))    # <class 'float'>\n",
    "print(type(is_student)) # <class 'bool'>\n",
    "\n",
    "# Common data types\n",
    "text = \"Hello\"         # String\n",
    "number = 42            # Integer\n",
    "decimal = 3.14         # Float\n",
    "flag = False           # Boolean\n",
    "\n",
    "# Python has no separate char type.\n",
    "c = 'A' # string of length 1\n",
    "print(\"type(c) =\", type(c))"
   ]
  },
  {
   "cell_type": "code",
   "execution_count": 61,
   "id": "5a22ea5c",
   "metadata": {},
   "outputs": [
    {
     "name": "stdout",
     "output_type": "stream",
     "text": [
      "z = (4+2j)\n",
      "type(z):  <class 'complex'>\n",
      "z.real = 4.0\n",
      "z.imag = 2.0\n"
     ]
    }
   ],
   "source": [
    "#complex data type\n",
    "\n",
    "z = 4 + 2j\n",
    "print(\"z =\", z)\n",
    "print(\"type(z): \", type(z))\n",
    "print(\"z.real =\", z.real)\n",
    "print(\"z.imag =\", z.imag)"
   ]
  },
  {
   "cell_type": "markdown",
   "id": "05566319",
   "metadata": {},
   "source": [
    "\n",
    "---\n",
    "### 3. User Input"
   ]
  },
  {
   "cell_type": "code",
   "execution_count": 6,
   "id": "0d5bf35f",
   "metadata": {},
   "outputs": [
    {
     "name": "stdout",
     "output_type": "stream",
     "text": [
      "Enter your name:  mem\n"
     ]
    },
    {
     "name": "stdout",
     "output_type": "stream",
     "text": [
      "Hello, mem!\n"
     ]
    },
    {
     "name": "stdout",
     "output_type": "stream",
     "text": [
      "Enter your age:  23\n"
     ]
    },
    {
     "name": "stdout",
     "output_type": "stream",
     "text": [
      "You will be 28 years old in 5 years.\n"
     ]
    }
   ],
   "source": [
    "# Taking input (always returns a string)\n",
    "user_name = input(\"Enter your name: \")\n",
    "print(f\"Hello, {user_name}!\")\n",
    "\n",
    "# Casting input to integer\n",
    "age_input = input(\"Enter your age: \")\n",
    "age_int = int(age_input)  # Convert string to integer\n",
    "print(f\"You will be {age_int + 5} years old in 5 years.\")\n"
   ]
  },
  {
   "cell_type": "markdown",
   "id": "1e1be86a",
   "metadata": {},
   "source": [
    "---\n",
    "\n",
    "### 4. Type Casting\n"
   ]
  },
  {
   "cell_type": "code",
   "execution_count": 8,
   "id": "87160b68",
   "metadata": {},
   "outputs": [
    {
     "name": "stdout",
     "output_type": "stream",
     "text": [
      "100 <class 'int'>\n",
      "100.0 <class 'float'>\n",
      "100.0 <class 'str'>\n",
      "True\n",
      "False\n",
      "False\n"
     ]
    }
   ],
   "source": [
    "# Convert between data types\n",
    "num_str = \"100\"\n",
    "num_int = int(num_str)    # String to integer\n",
    "num_float = float(num_int) # Integer to float\n",
    "back_to_str = str(num_float) # Float to string\n",
    "\n",
    "print(num_int, type(num_int))        # 100 <class 'int'>\n",
    "print(num_float, type(num_float))    # 100.0 <class 'float'>\n",
    "print(back_to_str, type(back_to_str)) # 100.0 <class 'str'>\n",
    "\n",
    "# Boolean casting\n",
    "print(bool(1))   # True\n",
    "print(bool(0))   # False\n",
    "print(bool(\"\"))  # False"
   ]
  },
  {
   "cell_type": "markdown",
   "id": "e0a24602",
   "metadata": {},
   "source": [
    "### Basic Math Operations:"
   ]
  },
  {
   "cell_type": "code",
   "execution_count": 48,
   "id": "c3061bb4",
   "metadata": {},
   "outputs": [
    {
     "name": "stdout",
     "output_type": "stream",
     "text": [
      "a + b = 8\n",
      "a - b = 2\n",
      "a * b = 15\n",
      "a / b = 1.6666666666666667\n",
      "a // b = 1\n",
      "a % b = 2\n",
      "a ** b = 125\n"
     ]
    }
   ],
   "source": [
    "# Basic Math Operations\n",
    "a = 5\n",
    "b = 3\n",
    "\n",
    "print(\"a + b =\", a + b)   # addition\n",
    "print(\"a - b =\", a - b)   # subtraction\n",
    "print(\"a * b =\", a * b)   # multiplication\n",
    "print(\"a / b =\", a / b)   # Division (always float)\n",
    "print(\"a // b =\", a // b)  # Floor Division (integer division)\n",
    "print(\"a % b =\", a % b)   # remainder\n",
    "print(\"a ** b =\", a ** b)  # Exponentiation (power)"
   ]
  },
  {
   "cell_type": "markdown",
   "id": "a55a3a12",
   "metadata": {},
   "source": [
    "### 5. Conditional Statements"
   ]
  },
  {
   "cell_type": "code",
   "execution_count": 10,
   "id": "e3013507",
   "metadata": {},
   "outputs": [
    {
     "name": "stdout",
     "output_type": "stream",
     "text": [
      "Grade: B\n",
      "Eligible to drive\n"
     ]
    }
   ],
   "source": [
    "# if, elif, else\n",
    "score = 85\n",
    "\n",
    "if score >= 90:\n",
    "    print(\"Grade: A\")\n",
    "elif score >= 80:\n",
    "    print(\"Grade: B\")\n",
    "else:\n",
    "    print(\"Grade: C\")\n",
    "\n",
    "# Logical operators\n",
    "age = 20\n",
    "has_license = True\n",
    "\n",
    "if age >= 18 and has_license:\n",
    "    print(\"Eligible to drive\")\n",
    "else:\n",
    "    print(\"Not eligible to drive\")\n"
   ]
  },
  {
   "cell_type": "markdown",
   "id": "a7dda5fe",
   "metadata": {},
   "source": [
    "\n",
    "---\n",
    "\n",
    "### 6. Loops\n"
   ]
  },
  {
   "cell_type": "code",
   "execution_count": 12,
   "id": "ff13d7bf",
   "metadata": {},
   "outputs": [
    {
     "name": "stdout",
     "output_type": "stream",
     "text": [
      "apple\n",
      "banana\n",
      "cherry\n",
      "Count: 1\n",
      "Count: 2\n",
      "Count: 3\n",
      "1\n",
      "2\n",
      "1\n",
      "2\n",
      "4\n",
      "5\n"
     ]
    }
   ],
   "source": [
    "# for loop (iterating over a list)\n",
    "fruits = [\"apple\", \"banana\", \"cherry\"]\n",
    "for fruit in fruits:\n",
    "    print(fruit)\n",
    "\n",
    "# while loop\n",
    "count = 1\n",
    "while count <= 3:\n",
    "    print(f\"Count: {count}\")\n",
    "    count += 1\n",
    "\n",
    "# break and continue\n",
    "for num in range(1, 6):\n",
    "    if num == 3:\n",
    "        break  # Exit loop\n",
    "    print(num)  # Output: 1, 2\n",
    "\n",
    "for num in range(1, 6):\n",
    "    if num == 3:\n",
    "        continue  # Skip this iteration\n",
    "    print(num)  # Output: 1, 2, 4, 5"
   ]
  },
  {
   "cell_type": "markdown",
   "id": "3ec07c1c",
   "metadata": {},
   "source": [
    "* **Notes**\n",
    "    * **Iterable** → object you can loop over (list, tuple, dict, string, etc.).\n",
    "    * All numbers are treated as `True` except 0.\n",
    "    * All strings are treated as True except the empty string (`\"\"`)"
   ]
  },
  {
   "cell_type": "code",
   "execution_count": 39,
   "id": "fe34ddad",
   "metadata": {},
   "outputs": [
    {
     "name": "stdout",
     "output_type": "stream",
     "text": [
      "Number is not zero\n",
      "Not empty string\n"
     ]
    }
   ],
   "source": [
    "if 0.00000003000000:\n",
    "    print(\"Number is not zero\")\n",
    "else:\n",
    "    print(\"Number is Zero\")\n",
    "\n",
    "if ' ':\n",
    "    print(\"Not empty string\")\n",
    "else:\n",
    "    print(\"Empty String\")"
   ]
  },
  {
   "cell_type": "markdown",
   "id": "fad1599e",
   "metadata": {},
   "source": [
    "---\n",
    "\n",
    "### 7. Functions\n"
   ]
  },
  {
   "cell_type": "markdown",
   "id": "22845e9c",
   "metadata": {},
   "source": [
    "- ### Defining a function\n"
   ]
  },
  {
   "cell_type": "code",
   "execution_count": 23,
   "id": "ecceeef9",
   "metadata": {},
   "outputs": [
    {
     "name": "stdout",
     "output_type": "stream",
     "text": [
      "x = 5 y = 7 z = 66\n"
     ]
    }
   ],
   "source": [
    "def greet(name):\n",
    "    return f\"Hello, {name}!\"\n",
    "\n",
    "\n",
    "def fun():\n",
    "    a = 5\n",
    "    b = 7\n",
    "    c = 66\n",
    "    return a, b, c\n",
    "\n",
    "x,y,z = fun()\n",
    "print(\"x =\", x, \"y =\", y, \"z =\", z)\n",
    "#print(\"x =\", x, \"z =\", z)\n",
    "#print(\"x =\", x)"
   ]
  },
  {
   "cell_type": "markdown",
   "id": "3f028c94",
   "metadata": {},
   "source": [
    "\n",
    "- ### Keyword arguments\n"
   ]
  },
  {
   "cell_type": "code",
   "execution_count": 17,
   "id": "6b079d76",
   "metadata": {},
   "outputs": [
    {
     "name": "stdout",
     "output_type": "stream",
     "text": [
      "I have a dog named Rex.\n"
     ]
    }
   ],
   "source": [
    "def describe_pet(animal, name):\n",
    "    print(f\"I have a {animal} named {name}.\")\n",
    "\n",
    "describe_pet(animal=\"dog\", name=\"Rex\")  # Using keywords\n"
   ]
  },
  {
   "cell_type": "markdown",
   "id": "bedbde10",
   "metadata": {},
   "source": [
    "\n",
    "- ### Default parameters\n"
   ]
  },
  {
   "cell_type": "code",
   "execution_count": null,
   "id": "4ecca9de",
   "metadata": {},
   "outputs": [
    {
     "name": "stdout",
     "output_type": "stream",
     "text": [
      "Coffee: medium, Sugar: 2 spoon(s)\n",
      "Coffee: large, Sugar: 3 spoon(s)\n",
      "Coffee: medium, Sugar: 1 spoon(s)\n"
     ]
    }
   ],
   "source": [
    "def make_coffee(size=\"medium\", sugar=2):\n",
    "    print(f\"Coffee: {size}, Sugar: {sugar} spoon(s)\")\n",
    "\n",
    "make_coffee()              # Coffee: medium, Sugar: 2\n",
    "make_coffee(\"large\", 3)    # Coffee: large, Sugar: 3\n",
    "make_coffee(sugar=1)       # Coffee: medium, Sugar: 1"
   ]
  },
  {
   "cell_type": "markdown",
   "id": "d1472117",
   "metadata": {},
   "source": [
    "---\n",
    "### 8. Modules"
   ]
  },
  {
   "cell_type": "markdown",
   "id": "0bd6b0d3",
   "metadata": {},
   "source": [
    "# Importing a module & Using module functions\n"
   ]
  },
  {
   "cell_type": "code",
   "execution_count": null,
   "id": "131d51ae",
   "metadata": {},
   "outputs": [
    {
     "name": "stdout",
     "output_type": "stream",
     "text": [
      "Area: 78.54\n",
      "math.ceil(2.1) = 3\n",
      "math.ceil(-2.8) = -2\n",
      "######################################\n",
      "math.sqrt(16) = 4.0\n",
      "math.pow(2, 5) = 32.0\n",
      "math.factorial(5) = 120\n",
      "math.gcd(12, 18) = 6\n",
      "math.pi = 3.141592653589793\n",
      "math.e = 2.718281828459045\n",
      "######################################\n"
     ]
    }
   ],
   "source": [
    "import math # import math module\n",
    "radius = 5\n",
    "area = math.pi * radius ** 2\n",
    "print(f\"Area: {area:.2f}\")  # Area: 78.54\n",
    "\n",
    "print(f\"math.ceil(2.1) = {math.ceil(2.1)}\")\n",
    "print(f\"math.ceil(-2.8) = {math.ceil(-2.8)}\")\n",
    "print(\"######################################\")\n",
    "# useful math functions\n",
    "print(\"math.sqrt(16) =\", math.sqrt(16))     # 4.0 (square root)\n",
    "print(\"math.pow(2, 5) =\", math.pow(2, 5))    # 32.0 (power)\n",
    "print(\"math.factorial(5) =\", math.factorial(5)) # 120\n",
    "print(\"math.gcd(12, 18) =\" , math.gcd(12, 18))  # 6 (greatest common divisor)\n",
    "print(\"math.pi =\", math.pi)           # 3.141592653589793\n",
    "print(\"math.e =\", math.e)            # 2.718281828459045\n",
    "print(\"######################################\")"
   ]
  },
  {
   "cell_type": "markdown",
   "id": "f02e32da",
   "metadata": {},
   "source": [
    "### built-in functions: functions that are accessible directly without importing any module\n"
   ]
  },
  {
   "cell_type": "code",
   "execution_count": 24,
   "id": "7682e35a",
   "metadata": {},
   "outputs": [
    {
     "name": "stdout",
     "output_type": "stream",
     "text": [
      "abs(-15.3) = 15.3\n",
      "max(1, 4, 5, 2) = 5\n",
      "min(1, 4, 5, 2) = 1\n",
      "pow(2, 10) = 1024\n",
      "###########################\n",
      "len('Network') = 7\n"
     ]
    }
   ],
   "source": [
    "print(f\"abs(-15.3) = {abs(-15.3)}\")\n",
    "print(f\"max(1, 4, 5, 2) = {max(1, 4, 5, 2)}\")\n",
    "print(f\"min(1, 4, 5, 2) = {min(1, 4, 5, 2)}\")\n",
    "print(f\"pow(2, 10) = {pow(2, 10)}\")\n",
    "print(\"###########################\")\n",
    "print(f\"len('Network') = {len('Network')}\")"
   ]
  },
  {
   "cell_type": "markdown",
   "id": "2bc29fa6",
   "metadata": {},
   "source": [
    "\n",
    "# Import specific functions\n"
   ]
  },
  {
   "cell_type": "code",
   "execution_count": 85,
   "id": "542cb8e5",
   "metadata": {},
   "outputs": [
    {
     "name": "stdout",
     "output_type": "stream",
     "text": [
      "randint(1, 10) = 2\n"
     ]
    }
   ],
   "source": [
    "from random import randint\n",
    "\n",
    "print(\"randint(1, 10) =\", randint(1, 10))  # Random integer between 1-10"
   ]
  },
  {
   "cell_type": "markdown",
   "id": "8007c2da",
   "metadata": {},
   "source": [
    "\n",
    "### 9. Basic Data Structures\n"
   ]
  },
  {
   "cell_type": "markdown",
   "id": "0b5eb007",
   "metadata": {},
   "source": [
    "#### **Lists** (Ordered, Mutable)\n",
    "\n",
    "* **Definition**: A list is an **ordered, mutable (changeable)** collection that can hold different data types.\n",
    "* **Syntax**: Use square brackets `[]`.\n",
    "* **Properties**:\n",
    "\n",
    "  * Ordered (keeps insertion order).\n",
    "  * Allows duplicate values.\n",
    "  * Mutable (you can add, remove, or change elements).\n",
    "* **Example**:"
   ]
  },
  {
   "cell_type": "code",
   "execution_count": 7,
   "id": "ba09f6fd-5b77-43ac-b872-a9ff2c2cee00",
   "metadata": {},
   "outputs": [
    {
     "name": "stdout",
     "output_type": "stream",
     "text": [
      "red\n",
      "['red', 'blue', 'green', 'yellow']\n"
     ]
    }
   ],
   "source": [
    "# Create a list\n",
    "colors = [\"red\", \"green\", \"blue\", \"green\"]\n",
    "print(colors[0])  # red\n",
    "\n",
    "# Modify list\n",
    "colors.append(\"yellow\")  # Add item\n",
    "colors.remove(\"green\")   # Remove item\n",
    "print(colors)            # ['red', 'blue', 'yellow']"
   ]
  },
  {
   "cell_type": "markdown",
   "id": "2f21d32b-b26f-4f27-b689-a65bf13dd08b",
   "metadata": {},
   "source": [
    "#### List comprehension:"
   ]
  },
  {
   "cell_type": "code",
   "execution_count": 141,
   "id": "9d3e8799-25a5-4108-a200-909d38180849",
   "metadata": {},
   "outputs": [
    {
     "name": "stdout",
     "output_type": "stream",
     "text": [
      "squares =  [1, 4, 9]\n",
      "a =  [10, 11, 12, 13, 14, 15, 16, 17, 18, 19, 20]\n",
      "even =  [10, 12, 14, 16, 18, 20]\n",
      "evenindeces =  [10, 12, 14, 16, 18, 20]\n"
     ]
    }
   ],
   "source": [
    "# List comprehension\n",
    "squares = [x**2 for x in range(1, 4)]\n",
    "print(\"squares = \", squares)  # [1, 4, 9]\n",
    "a = list(range(10, 21))\n",
    "print(\"a = \", a)\n",
    "even = [x for x in a if x % 2 == 0] #even elements of a\n",
    "print(\"even = \", even)\n",
    "evenindeces = [x for i, x in enumerate(a) if i % 2 == 0] #elements at even indeces in a\n",
    "print(\"evenindeces = \", evenindeces)"
   ]
  },
  {
   "cell_type": "markdown",
   "id": "0b44d31f-f6d8-4174-bb63-4ddba13d5c48",
   "metadata": {},
   "source": [
    "#### List Indexing & Slicing: Different ways to access the list elements"
   ]
  },
  {
   "cell_type": "code",
   "execution_count": null,
   "id": "c0944813-8388-43fb-9ab4-75379799c59d",
   "metadata": {},
   "outputs": [
    {
     "name": "stdout",
     "output_type": "stream",
     "text": [
      "len(a) = 7\n",
      "a[2:5] = [8, 7, 6]\n",
      "#################################\n",
      "a[2:] = [8, 7, 6, 3, 10]\n",
      "a[:5] = [1, 5, 8, 7, 6]\n",
      "a[:] = [1, 5, 8, 7, 6, 3, 10]\n",
      "#################################\n",
      "#################################\n",
      "a[-1] = 10\n",
      "a[-2] = 3\n",
      "a[2:-1] = [8, 7, 6, 3]\n",
      "#################################\n",
      "a[1:6:2] = [5, 7, 3]\n",
      "a[7:0:-1] = [10, 3, 6, 7, 8, 5]\n",
      "#################################\n",
      "a[::-1] = [10, 3, 6, 7, 8, 5, 1]\n",
      "list(reversed(a)) = [10, 3, 6, 7, 8, 5, 1]\n",
      "#################################\n",
      "a[-1::-1] = [10, 3, 6, 7, 8, 5, 1]\n",
      "#################################\n"
     ]
    },
    {
     "ename": "TypeError",
     "evalue": "'>' not supported between instances of 'list' and 'int'",
     "output_type": "error",
     "traceback": [
      "\u001b[1;31m---------------------------------------------------------------------------\u001b[0m",
      "\u001b[1;31mTypeError\u001b[0m                                 Traceback (most recent call last)",
      "Cell \u001b[1;32mIn[52], line 24\u001b[0m\n\u001b[0;32m     22\u001b[0m \u001b[38;5;28mprint\u001b[39m(\u001b[38;5;124mf\u001b[39m\u001b[38;5;124m\"\u001b[39m\u001b[38;5;124ma[-1::-1] = \u001b[39m\u001b[38;5;132;01m{\u001b[39;00ma[\u001b[38;5;241m-\u001b[39m\u001b[38;5;241m1\u001b[39m::\u001b[38;5;241m-\u001b[39m\u001b[38;5;241m1\u001b[39m]\u001b[38;5;132;01m}\u001b[39;00m\u001b[38;5;124m\"\u001b[39m)\n\u001b[0;32m     23\u001b[0m \u001b[38;5;28mprint\u001b[39m(\u001b[38;5;124m\"\u001b[39m\u001b[38;5;124m#################################\u001b[39m\u001b[38;5;124m\"\u001b[39m)\n\u001b[1;32m---> 24\u001b[0m \u001b[38;5;28mprint\u001b[39m(a[\u001b[43ma\u001b[49m\u001b[43m \u001b[49m\u001b[38;5;241;43m>\u001b[39;49m\u001b[43m \u001b[49m\u001b[38;5;241;43m5\u001b[39;49m])\n",
      "\u001b[1;31mTypeError\u001b[0m: '>' not supported between instances of 'list' and 'int'"
     ]
    }
   ],
   "source": [
    "#### List Indexing & Slicing: Different ways to access the list elements\n",
    "i = [0, 1, 2, 3, 4, 5, 6 ]\n",
    "a = [1, 5, 8, 7, 6, 3, 10]\n",
    "print(f\"len(a) = {len(a)}\") # len(a) = number of elements of a\n",
    "print(f\"a[2:5] = {a[2:5]}\")\n",
    "print(\"#################################\")\n",
    "print(f\"a[2:] = {a[2:]}\")\n",
    "print(f\"a[:5] = {a[:5]}\")\n",
    "print(f\"a[:] = {a[:]}\")\n",
    "print(\"#################################\")\n",
    "print(\"#################################\")\n",
    "print(f\"a[-1] = {a[-1]}\") # a[-1] = last element\n",
    "print(f\"a[-2] = {a[-2]}\")\n",
    "print(f\"a[2:-1] = {a[2:-1]}\")\n",
    "print(\"#################################\")\n",
    "print(f\"a[1:6:2] = {a[1:6:2]}\")\n",
    "print(f\"a[7:0:-1] = {a[7:0:-1]}\")\n",
    "print(\"#################################\")\n",
    "print(f\"a[::-1] = {a[::-1]}\")\n",
    "print(f\"list(reversed(a)) = {list(reversed(a))}\")\n",
    "print(\"#################################\")\n",
    "print(f\"a[-1::-1] = {a[-1::-1]}\")\n",
    "print(\"#################################\")"
   ]
  },
  {
   "cell_type": "markdown",
   "id": "8cf1e015",
   "metadata": {},
   "source": [
    "---\n",
    "\n",
    "#### **Tuples** (Ordered, Immutable)\n",
    "* **Definition**: A tuple is an **ordered, immutable (unchangeable)** collection.\n",
    "* **Syntax**: Use parentheses `()`.\n",
    "* **Properties**:\n",
    "\n",
    "  * Ordered.\n",
    "  * Allows duplicates.\n",
    "  * Immutable (once created, you cannot modify elements).\n",
    "* **Example**:\n"
   ]
  },
  {
   "cell_type": "code",
   "execution_count": null,
   "id": "966463a5-1b8e-4fe0-9585-e65f3b174517",
   "metadata": {},
   "outputs": [
    {
     "name": "stdout",
     "output_type": "stream",
     "text": [
      "(10, 20, 6)\n",
      "20\n",
      "<class 'int'>\n"
     ]
    }
   ],
   "source": [
    "# Create a tuple\n",
    "coordinates = (10, 20, 6)\n",
    "#coordinates = (10, 20)\n",
    "print(coordinates)\n",
    "print(coordinates[1])  # Accessing # 20\n",
    "\n",
    "# Tuples cannot be modified\n",
    "# coordinates[0] = 15  # Error!\n",
    "\n",
    "# Tuple with one element must have a comma\n",
    "single_item = (5,)\n",
    "#print(type(single_item))"
   ]
  },
  {
   "cell_type": "markdown",
   "id": "65957ef7-b401-4604-ba4f-335ce6ebdf3e",
   "metadata": {},
   "source": [
    "#### **Sets** (Unordered, Unique Items)\n",
    "* **Definition**: A set is an **unordered, mutable collection of unique elements**.\n",
    "* **Syntax**: Use curly braces `{}` or the `set()` function.\n",
    "\n",
    "---\n",
    "\n",
    "### 🔑 **Key Properties**\n",
    "\n",
    "1. **Unordered** → elements don’t have a fixed position (no indexing).\n",
    "2. **Unique** → duplicates are automatically removed.\n",
    "3. **Mutable** → you can add or remove items.\n",
    "4. **Elements must be immutable** (like numbers, strings, tuples). Lists and dictionaries cannot be inside a set."
   ]
  },
  {
   "cell_type": "code",
   "execution_count": null,
   "id": "80353c59",
   "metadata": {},
   "outputs": [
    {
     "name": "stdout",
     "output_type": "stream",
     "text": [
      "{1, 2}\n"
     ]
    }
   ],
   "source": [
    "# Create a set\n",
    "a = {1, 2, 2, 3}\n",
    "print(a)  # {1, 2, 3} (duplicates removed)\n",
    "\n",
    "#updating a set:\n",
    "# add(element) → Add a single element\n",
    "# update(list of elements) → Add multiple elements\n",
    "# remove(element) → removes the element, error if not found\n",
    "# discard(element) → removes the element, no error if not found\n",
    "\n"
   ]
  },
  {
   "cell_type": "markdown",
   "id": "ff1df0ba",
   "metadata": {},
   "source": [
    "### 🔄 **Set Operations (like math)**\n",
    "\n",
    "Sets are very useful for operations such as **union, intersection, difference**."
   ]
  },
  {
   "cell_type": "code",
   "execution_count": null,
   "id": "ef725d6c",
   "metadata": {},
   "outputs": [
    {
     "name": "stdout",
     "output_type": "stream",
     "text": [
      "a = {1, 2, 3, 4}  b = {3, 4, 5, 6}\n",
      "a | b = {1, 2, 3, 4, 5, 6}\n",
      "a & b = {3, 4}\n",
      "a - b = {1, 2}\n",
      "a ^ b = {1, 2, 5, 6}\n"
     ]
    }
   ],
   "source": [
    "\n",
    "# Set operations\n",
    "a = {1, 2, 3, 4}\n",
    "b = {3, 4, 5, 6}\n",
    "\n",
    "print(\"a =\", a, \" b =\" , b)\n",
    "# Union (all unique elements)\n",
    "print(f\"a | b = {a|b}\")   # {1, 2, 3, 4, 5, 6}\n",
    "\n",
    "# Intersection (common elements)\n",
    "print(\"a & b =\", a & b)   # {3, 4}\n",
    "\n",
    "# Difference (in a but not in b)\n",
    "print(\"a - b =\", a - b)   # {1, 2}\n",
    "\n",
    "# Symmetric Difference (in a or b but not both)\n",
    "print(\"a ^ b =\", a ^ b)   # {1, 2, 5, 6}\n",
    "\n",
    "#Set Operations\n",
    "# union(set)\n",
    "# intersection(set)\n",
    "# difference(set)\n",
    "# symmetric_difference(set)"
   ]
  },
  {
   "cell_type": "markdown",
   "id": "05da5ac0",
   "metadata": {},
   "source": [
    "#### **Dictionaries** (Key-Value Pairs)\n",
    "* **Definition**: A dictionary is an **collection** of **key-value pairs**.\n",
    "* **Syntax**: Use curly braces `{}` with keys and values.\n",
    "* **Properties**:\n",
    "\n",
    "  * Keys must be **unique** and **immutable** (e.g., strings, numbers, tuples).\n",
    "  * Values can be of any type and can repeat.\n",
    "  * Dictionary is mutable (you can add, remove, or update items).\n",
    "* **Example**:\n"
   ]
  },
  {
   "cell_type": "code",
   "execution_count": 49,
   "id": "225a75c0",
   "metadata": {},
   "outputs": [
    {
     "name": "stdout",
     "output_type": "stream",
     "text": [
      "student['name'] = Emma\n",
      "student = {'name': 'Emma', 'age': 23, 'courses': ['Math', 'Science'], 'grade': 'A'}\n",
      "Loop through Dictionary\n",
      "name: Emma\n",
      "age: 23\n",
      "courses: ['Math', 'Science']\n",
      "grade: A\n",
      "Loop over keys:\n",
      "key = name key = age key = courses key = grade \n",
      "student.keys() =  dict_keys(['name', 'age', 'courses', 'grade'])\n",
      "student.values() =  dict_values(['Emma', 23, ['Math', 'Science'], 'A'])\n"
     ]
    }
   ],
   "source": [
    "\n",
    "# Create a dictionary\n",
    "student = {\"name\": \"Emma\", \"age\": 22, \"courses\": [\"Math\", \"Science\"]}\n",
    "print(\"student['name'] =\", student[\"name\"])  # Emma\n",
    "\n",
    "# Modify dictionary\n",
    "student[\"age\"] = 23          # Update value\n",
    "student[\"grade\"] = \"A\"       # Add key-value pair\n",
    "\n",
    "print(\"student =\", student)               # {'name': 'Emma', 'age': 23, 'courses': [...], 'grade': 'A'}\n",
    "\n",
    "# Loop through dictionary\n",
    "print(\"Loop through Dictionary\")\n",
    "for key, value in student.items():\n",
    "    print(f\"{key}: {value}\")\n",
    "\n",
    "\n",
    "print(\"Loop over keys:\")\n",
    "for key in student.keys():\n",
    "    print(f\"key = {key}\", end=\" \")\n",
    "print()\n",
    "print(\"student.keys() = \", student.keys())\n",
    "#By the same way, we can loop over values\n",
    "print(\"student.values() = \", student.values())"
   ]
  },
  {
   "cell_type": "markdown",
   "id": "94cc7b3f",
   "metadata": {},
   "source": [
    "\n",
    "---\n",
    "\n",
    "### Summary\n",
    "This notebook covers fundamental Python concepts:\n",
    "- **Variables/Printing**: Store data and display results.\n",
    "- **Data Types**: Work with strings, numbers, and booleans.\n",
    "- **User Input**: Capture and process user data.\n",
    "- **Type Casting**: Convert between data types.\n",
    "- **Conditionals**: Make decisions with `if`/`else`.\n",
    "- **Loops**: Automate repetitive tasks.\n",
    "- **Functions**: Reuse code with parameters and defaults.\n",
    "- **Modules**: Leverage external libraries.\n",
    "- **Data Structures**: Organize data with lists, tuples, sets, and dictionaries.\n"
   ]
  },
  {
   "cell_type": "markdown",
   "id": "fca333f3",
   "metadata": {},
   "source": [
    "### ⚡ **Basic Data Structure in Python**\n",
    "\n",
    "* **List** → ordered, mutable, allows duplicates.\n",
    "* **Tuple** → ordered, immutable, allows duplicates.\n",
    "* **Dictionary** → unordered (but keeps insertion order), key-value pairs, mutable, keys unique.\n",
    "* **Set** → unordered, mutable, only unique elements."
   ]
  },
  {
   "cell_type": "markdown",
   "id": "24ce00db",
   "metadata": {},
   "source": [
    "---\n",
    "### **Miscellaneous**:"
   ]
  },
  {
   "cell_type": "markdown",
   "id": "d8d02415",
   "metadata": {},
   "source": [
    "* **`enumerate()`** is a built-in function in Python that lets you loop over a sequence (like a list, tuple, or string) and get the index of each item at the same time.\n",
    "\n",
    "* **Basic Syntax**\n",
    "    ```python\n",
    "        enumerate(iterable, start=0)\n",
    "        #iterable → the sequence (list, tuple, string, etc.).\n",
    "        #start → the index number to begin with (default = 0).\n",
    "    ```\n"
   ]
  },
  {
   "cell_type": "code",
   "execution_count": 68,
   "id": "32cf009b",
   "metadata": {},
   "outputs": [
    {
     "name": "stdout",
     "output_type": "stream",
     "text": [
      "len(s) =  7\n",
      "___________________________________________________\n",
      "c = M\tc = a\tc = h\tc = m\tc = o\tc = u\tc = d\t\n",
      "___________________________________________________\n",
      "item = (0, 'M')\n",
      "item = (1, 'a')\n",
      "item = (2, 'h')\n",
      "item = (3, 'm')\n",
      "item = (4, 'o')\n",
      "item = (5, 'u')\n",
      "item = (6, 'd')\n",
      "\n",
      "___________________________________________________\n",
      "i = 1, c = M\n",
      "i = 2, c = a\n",
      "i = 3, c = h\n",
      "i = 4, c = m\n",
      "i = 5, c = o\n",
      "i = 6, c = u\n",
      "i = 7, c = d\n"
     ]
    }
   ],
   "source": [
    "s = \"Mahmoud\" # 7 characters\n",
    "print(\"len(s) = \", len(s))\n",
    "print(\"___________________________________________________\")\n",
    "for c in s:\n",
    "    print(f\"c = {c}\", end=\"\\t\")\n",
    "print()\n",
    "print(\"___________________________________________________\")\n",
    "for item in enumerate(s):\n",
    "    print(f\"item = {item}\")\n",
    "print()\n",
    "print(\"___________________________________________________\")\n",
    "for i, c in enumerate(s, start=1):\n",
    "    print(f\"i = {i}, c = {c}\")"
   ]
  },
  {
   "cell_type": "code",
   "execution_count": null,
   "id": "c104d92a",
   "metadata": {},
   "outputs": [
    {
     "name": "stdout",
     "output_type": "stream",
     "text": [
      "2 belongs to a? True\n",
      "2 doesn't belongs to a? False\n"
     ]
    }
   ],
   "source": [
    "#membership of list\n",
    "a = [2, 4, 6, 7, 9]\n",
    "x = int(input( ))\n",
    "print(x, \"belongs to a?\", x in a)\n",
    "print(x, \"doesn't belong to a?\", x not in a)"
   ]
  },
  {
   "cell_type": "markdown",
   "id": "6577e1e3",
   "metadata": {},
   "source": [
    " * #### **Swaping Two Elements**"
   ]
  },
  {
   "cell_type": "code",
   "execution_count": null,
   "id": "f6233e9a",
   "metadata": {},
   "outputs": [
    {
     "name": "stdout",
     "output_type": "stream",
     "text": [
      "a = 5, b = 7\n",
      "a = 7, b = 5\n"
     ]
    }
   ],
   "source": [
    "a = 5; b = 7 # with a semicolon, you can put multiple statements in one line\n",
    "print(f\"a = {a}, b = {b}\")\n",
    "a, b = b, a\n",
    "print(f\"a = {a}, b = {b}\")"
   ]
  },
  {
   "cell_type": "markdown",
   "id": "ef07d751",
   "metadata": {},
   "source": [
    "* **`zip()` function** in Python is used to **combine two or more iterables** (like lists, tuples, strings) element by element into **tuples**.\n",
    "\n",
    "---\n",
    "* 🔹 **Basic Syntax**\n",
    "\n",
    "    ```python\n",
    "    zip(iterable1, iterable2, ...)\n",
    "    ```\n",
    "\n",
    "    * Takes multiple iterables.\n",
    "    * Returns an **iterator of tuples**.\n",
    "    * Stops when the shortest iterable is exhausted.\n",
    "\n",
    "---\n"
   ]
  },
  {
   "cell_type": "code",
   "execution_count": 3,
   "id": "45a5f33d",
   "metadata": {},
   "outputs": [
    {
     "name": "stdout",
     "output_type": "stream",
     "text": [
      "[('Ali', 90), ('Sara', 85), ('Omar', 88)]\n",
      "<zip object at 0x000001DA6826B440>\n"
     ]
    }
   ],
   "source": [
    "## 🔹 **Example 1 – Two lists**\n",
    "names = [\"Ali\", \"Sara\", \"Omar\"]\n",
    "scores = [90, 85, 88]\n",
    "\n",
    "zipped = zip(names, scores)\n",
    "print(list(zipped))\n",
    "print(zipped)\n"
   ]
  },
  {
   "cell_type": "code",
   "execution_count": 5,
   "id": "88a6deda",
   "metadata": {},
   "outputs": [
    {
     "name": "stdout",
     "output_type": "stream",
     "text": [
      "[(1, 'x'), (2, 'y')]\n"
     ]
    }
   ],
   "source": [
    "## 🔹 **Example 2 – Different lengths**\n",
    "\n",
    "a = [1, 2, 3]\n",
    "b = [\"x\", \"y\"]\n",
    "\n",
    "print(list(zip(a, b))) # ⚠️ It stops at the shortest iterable."
   ]
  },
  {
   "cell_type": "code",
   "execution_count": null,
   "id": "6700bdab",
   "metadata": {},
   "outputs": [
    {
     "name": "stdout",
     "output_type": "stream",
     "text": [
      "[('Ali', 90, 20), ('Mona', 85, 21), ('Sam', 78, 19)]\n"
     ]
    }
   ],
   "source": [
    "## 🔹 **Example 3 – More than two lists**\n",
    "\n",
    "students = [\"Ali\", \"Mona\", \"Sam\"]\n",
    "grades = [90, 85, 78]\n",
    "ages = [20, 21, 19]\n",
    "\n",
    "print(list(zip(students, grades, ages)))"
   ]
  },
  {
   "cell_type": "code",
   "execution_count": 8,
   "id": "f15a525b",
   "metadata": {},
   "outputs": [
    {
     "name": "stdout",
     "output_type": "stream",
     "text": [
      "('a', 'b', 'c')\n",
      "(1, 2, 3)\n"
     ]
    }
   ],
   "source": [
    "## 🔹 **Example 4 – Unzipping (reverse zip)**\n",
    "\n",
    "#You can use `zip(*iterable)` to unzip:\n",
    "\n",
    "pairs = [(\"a\", 1), (\"b\", 2), (\"c\", 3)]\n",
    "letters, numbers = zip(*pairs)\n",
    "\n",
    "print(letters)  # ('a', 'b', 'c')\n",
    "print(numbers)  # (1, 2, 3)"
   ]
  },
  {
   "cell_type": "code",
   "execution_count": 18,
   "id": "2a5ce6cb",
   "metadata": {},
   "outputs": [
    {
     "name": "stdout",
     "output_type": "stream",
     "text": [
      "x =  {'a': 2, 'b': 4, 'c': 6}\n",
      "x =  {'a': 2, 'b': 4, 'c': 6, 'd': 10}\n"
     ]
    }
   ],
   "source": [
    "# creating a dictionary from two lists\n",
    "\n",
    "a = ['a', 'b', 'c']\n",
    "b = [2, 4, 6]\n",
    "x = dict(zip(a, b))\n",
    "print(\"x = \", x)\n",
    "x['d'] = 10\n",
    "print(\"x = \", x)"
   ]
  },
  {
   "cell_type": "markdown",
   "id": "a13f0ab3",
   "metadata": {},
   "source": [
    "---\n",
    "\n",
    "#### ✅ **Summary**\n",
    "\n",
    "* `zip()` combines iterables into tuples.\n",
    "* Stops at the shortest iterable.\n",
    "* Very useful in loops, dictionaries, and data handling.\n",
    "\n",
    "---"
   ]
  },
  {
   "cell_type": "markdown",
   "id": "156eca74",
   "metadata": {},
   "source": [
    "* **`random'** module"
   ]
  },
  {
   "cell_type": "code",
   "execution_count": 99,
   "id": "4785d98c",
   "metadata": {},
   "outputs": [
    {
     "name": "stdout",
     "output_type": "stream",
     "text": [
      "random.randint(1, 10) = 1\n",
      "random.randint(1, 10) = 5.6995326605952\n",
      "random.choice(options) = c\n",
      "['d', 'c', 'b', 'a']\n"
     ]
    }
   ],
   "source": [
    "import random\n",
    "\n",
    "print(\"random.randint(1, 10) =\", random.randint(1, 10))  # Random integer between 1-10\n",
    "print(\"random.randint(1, 10) =\", random.random()*10) \n",
    "options = ['a', 'b', 'c', 'd']\n",
    "print(\"random.choice(options) =\", random.choice(options))\n",
    "random.shuffle(options)\n",
    "print(options)"
   ]
  },
  {
   "cell_type": "markdown",
   "id": "024a6e86",
   "metadata": {},
   "source": [
    "#### Others"
   ]
  },
  {
   "cell_type": "code",
   "execution_count": 23,
   "id": "79a0ec48",
   "metadata": {},
   "outputs": [
    {
     "name": "stdout",
     "output_type": "stream",
     "text": [
      "i =  network\n",
      "i =  etwork\n",
      "i =  twork\n",
      "i =  work\n",
      "i =  ork\n",
      "i =  rk\n",
      "i =  k\n"
     ]
    }
   ],
   "source": [
    "# string treated as a list in terms of indexing and slicing\n",
    "s = \"network\"\n",
    "for i, _ in enumerate(s):\n",
    "    print(\"i = \", s[i:])"
   ]
  },
  {
   "cell_type": "code",
   "execution_count": null,
   "id": "239aa07e",
   "metadata": {},
   "outputs": [
    {
     "name": "stdout",
     "output_type": "stream",
     "text": [
      "5\n"
     ]
    }
   ],
   "source": [
    "a = [3, 5, 5, 10, 7, 81]\n",
    "print(a.index(max(a)))"
   ]
  },
  {
   "cell_type": "markdown",
   "id": "7e26fd3c",
   "metadata": {},
   "source": []
  }
 ],
 "metadata": {
  "kernelspec": {
   "display_name": "Python 3 (ipykernel)",
   "language": "python",
   "name": "python3"
  },
  "language_info": {
   "codemirror_mode": {
    "name": "ipython",
    "version": 3
   },
   "file_extension": ".py",
   "mimetype": "text/x-python",
   "name": "python",
   "nbconvert_exporter": "python",
   "pygments_lexer": "ipython3",
   "version": "3.12.7"
  }
 },
 "nbformat": 4,
 "nbformat_minor": 5
}
